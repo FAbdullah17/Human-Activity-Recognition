{
 "cells": [
  {
   "cell_type": "code",
   "execution_count": null,
   "metadata": {},
   "outputs": [],
   "source": [
    "import pandas as pd\n",
    "import numpy as np\n",
    "import pickle\n",
    "import matplotlib.pyplot as plt\n",
    "from scipy import stats\n",
    "import tensorflow as tf\n",
    "import seaborn as sns\n",
    "from sklearn import metrics\n",
    "from sklearn.model_selection import train_test_split\n",
    "\n",
    "%matplotlib inline \n"
   ]
  },
  {
   "cell_type": "code",
   "execution_count": null,
   "metadata": {},
   "outputs": [],
   "source": [
    "sns.set(style=\"whitegrid\", palette=\"muted\", font_scale=1.5)\n",
    "RANDOM_SEED = 42\n",
    "\n",
    "from google.colab import drive\n",
    "drive.mount('/content/drive')\n"
   ]
  },
  {
   "cell_type": "code",
   "execution_count": null,
   "metadata": {},
   "outputs": [],
   "source": [
    "from google.colab import files\n",
    "uploaded = files.upload()\n"
   ]
  },
  {
   "cell_type": "code",
   "execution_count": null,
   "metadata": {},
   "outputs": [],
   "source": [
    "#transforming shape\n",
    "reshaped_segments = np.asarray(\n",
    "\tsegments, dtype = np.float32).reshape(\n",
    "\t-1 , N_time_steps, N_features)\n",
    "\n",
    "reshaped_segments.shape\n"
   ]
  },
  {
   "cell_type": "code",
   "execution_count": null,
   "metadata": {},
   "outputs": [],
   "source": [
    "X_train, X_test, Y_train, Y_test = train_test_split(\n",
    "\treshaped_segments, labels, test_size = 0.2, \n",
    "\trandom_state = RANDOM_SEED)\n"
   ]
  },
  {
   "cell_type": "code",
   "execution_count": null,
   "metadata": {},
   "outputs": [],
   "source": [
    "def create_LSTM_model(inputs):\n",
    "\tW = {\n",
    "\t\t'hidden': tf.Variable(tf.random_normal([N_features, N_hidden_units])),\n",
    "\t\t'output': tf.Variable(tf.random_normal([N_hidden_units, N_classes]))\n",
    "\t}\n",
    "\tbiases = {\n",
    "\t\t'hidden': tf.Variable(tf.random_normal([N_hidden_units], mean = 0.1)),\n",
    "\t\t'output': tf.Variable(tf.random_normal([N_classes]))\n",
    "\t}\n",
    "\tX = tf.transpose(inputs, [1, 0, 2])\n",
    "\tX = tf.reshape(X, [-1, N_features])\n",
    "\thidden = tf.nn.relu(tf.matmul(X, W['hidden']) + biases['hidden'])\n",
    "\thidden = tf.split(hidden, N_time_steps, 0)\n",
    "\n",
    "\tlstm_layers = [tf.contrib.rnn.BasicLSTMCell(\n",
    "\t\tN_hidden_units, forget_bias = 1.0) for _ in range(2)]\n",
    "\tlstm_layers = tf.contrib.rnn.MultiRNNCell(lstm_layers)\n",
    "\n",
    "\toutputs, _ = tf.contrib.rnn.static_rnn(lstm_layers, \n",
    "\t\t\t\t\t\t\t\t\t\thidden, dtype = tf.float32)\n",
    "\n",
    "\tlstm_last_output = outputs[-1]\n",
    "\treturn tf.matmul(lstm_last_output, W['output']) + biases['output']\n"
   ]
  },
  {
   "cell_type": "code",
   "execution_count": null,
   "metadata": {},
   "outputs": [],
   "source": [
    "L2_LOSS = 0.0015\n",
    "l2 = L2_LOSS * \\\n",
    "sum(tf.nn.l2_loss(tf_var) for tf_var in tf.trainable_variables())\n",
    "loss = tf.reduce_mean(tf.nn.softmax_cross_entropy_with_logits(\n",
    "\tlogits = pred_y, labels = Y)) + l2\n",
    "\n",
    "Learning_rate = 0.0025\n",
    "optimizer = tf.train.AdamOptimizer(learning_rate = Learning_rate).minimize(loss)\n",
    "correct_pred = tf.equal(tf.argmax(pred_softmax , 1), tf.argmax(Y,1))\n",
    "accuracy = tf.reduce_mean(tf.cast(correct_pred, dtype = tf.float32))\n"
   ]
  },
  {
   "cell_type": "code",
   "execution_count": null,
   "metadata": {},
   "outputs": [],
   "source": [
    "# epochs is number of iterations performed in model training.\n",
    "N_epochs = 50\n",
    "batch_size = 1024\n",
    "\n",
    "saver = tf.train.Saver()\n",
    "history = dict(train_loss=[], train_acc=[], test_loss=[], test_acc=[])\n",
    "sess = tf.InteractiveSession()\n",
    "sess.run(tf.global_variables_initializer())\n",
    "train_count = len(X_train)\n",
    "\n",
    "for i in range(1, N_epochs + 1):\n",
    "\tfor start, end in zip(range(0, train_count, batch_size), \n",
    "\t\t\t\t\t\trange(batch_size, train_count + 1, batch_size)):\n",
    "\t\tsess.run(optimizer, feed_dict={X: X_train[start:end],\n",
    "\t\t\t\t\t\t\t\t\tY: Y_train[start:end]})\n",
    "\t_, acc_train, loss_train = sess.run([pred_softmax, accuracy, loss], feed_dict={\n",
    "\t\tX: X_train, Y: Y_train})\n",
    "\t_, acc_test, loss_test = sess.run([pred_softmax, accuracy, loss], feed_dict={\n",
    "\t\tX: X_test, Y: Y_test})\n",
    "\thistory['train_loss'].append(loss_train)\n",
    "\thistory['train_acc'].append(acc_train)\n",
    "\thistory['test_loss'].append(loss_test)\n",
    "\thistory['test_acc'].append(acc_test)\n",
    "\n",
    "\tif (i != 1 and i % 10 != 0):\n",
    "\t\tprint(f'epoch: {i} test_accuracy:{acc_test} loss:{loss_test}')\n",
    "predictions, acc_final, loss_final = sess.run([pred_softmax, accuracy, loss], \n",
    "\t\t\t\t\t\t\t\t\t\t\tfeed_dict={X: X_test, Y: Y_test})\n",
    "print()\n",
    "print(f'final results : accuracy : {acc_final} loss : {loss_final}')\n",
    "\t\n"
   ]
  },
  {
   "cell_type": "code",
   "execution_count": null,
   "metadata": {},
   "outputs": [],
   "source": [
    "plt.figure(figsize=(12,8))\n",
    "\n",
    "plt.plot(np.array(history['train_loss']), \"r--\", label=\"Train loss\")\n",
    "plt.plot(np.array(history['train_acc']), \"g--\", label=\"Train accuracy\")\n",
    "\n",
    "plt.plot(np.array(history['test_loss']), \"r--\", label=\"Test loss\")\n",
    "plt.plot(np.array(history['test_acc']), \"g--\", label=\"Test accuracy\")\n",
    "\n",
    "plt.title(\"Training session's progress over iteration\")\n",
    "plt.legend(loc = 'upper right', shadow = True)\n",
    "plt.ylabel('Training Progress(Loss or Accuracy values)')\n",
    "plt.xlabel('Training Epoch')\n",
    "plt.ylim(0)\n",
    "\n",
    "plt.show()\n"
   ]
  },
  {
   "cell_type": "code",
   "execution_count": null,
   "metadata": {},
   "outputs": [],
   "source": [
    "max_test = np.argmax(Y_test, axis=1)\n",
    "max_predictions = np.argmax(predictions, axis = 1)\n",
    "confusion_matrix = metrics.confusion_matrix(max_test, max_predictions)\n",
    "\n",
    "plt.figure(figsize=(16,14))\n",
    "sns.heatmap(confusion_matrix, xticklabels = LABELS, yticklabels = LABELS, annot =True, fmt = \"d\")\n",
    "plt.title(\"Confusion Matrix\")\n",
    "plt.xlabel('Predicted_label')\n",
    "plt.ylabel('True Label')\n",
    "plt.show()\n"
   ]
  },
  {
   "cell_type": "code",
   "execution_count": null,
   "metadata": {},
   "outputs": [],
   "source": []
  }
 ],
 "metadata": {
  "kernelspec": {
   "display_name": "Python 3",
   "language": "python",
   "name": "python3"
  },
  "language_info": {
   "codemirror_mode": {
    "name": "ipython",
    "version": 3
   },
   "file_extension": ".py",
   "mimetype": "text/x-python",
   "name": "python",
   "nbconvert_exporter": "python",
   "pygments_lexer": "ipython3",
   "version": "3.12.7"
  }
 },
 "nbformat": 4,
 "nbformat_minor": 2
}
